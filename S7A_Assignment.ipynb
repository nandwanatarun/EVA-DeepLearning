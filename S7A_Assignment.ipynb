{
  "nbformat": 4,
  "nbformat_minor": 0,
  "metadata": {
    "colab": {
      "name": "S7A_Assignment.ipynb",
      "version": "0.3.2",
      "provenance": [],
      "include_colab_link": true
    },
    "kernelspec": {
      "name": "python3",
      "display_name": "Python 3"
    },
    "accelerator": "GPU"
  },
  "cells": [
    {
      "cell_type": "markdown",
      "metadata": {
        "id": "view-in-github",
        "colab_type": "text"
      },
      "source": [
        "<a href=\"https://colab.research.google.com/github/nandwanatarun/EVA-DeepLearning/blob/Session-7/S7A_Assignment.ipynb\" target=\"_parent\"><img src=\"https://colab.research.google.com/assets/colab-badge.svg\" alt=\"Open In Colab\"/></a>"
      ]
    },
    {
      "cell_type": "markdown",
      "metadata": {
        "id": "aNyZv-Ec52ot",
        "colab_type": "text"
      },
      "source": [
        "# **Import Libraries and modules**"
      ]
    },
    {
      "cell_type": "markdown",
      "metadata": {
        "id": "SxqMWt_qWRz3",
        "colab_type": "text"
      },
      "source": [
        ""
      ]
    },
    {
      "cell_type": "code",
      "metadata": {
        "id": "3m3w1Cw49Zkt",
        "colab_type": "code",
        "outputId": "595207fc-677f-4a8d-86ae-ac4683382b1b",
        "colab": {
          "base_uri": "https://localhost:8080/",
          "height": 35
        }
      },
      "source": [
        "# https://keras.io/\n",
        "!pip install -q keras\n",
        "import keras\n",
        "import datetime\n",
        "print(datetime.datetime.now())"
      ],
      "execution_count": 0,
      "outputs": [
        {
          "output_type": "stream",
          "text": [
            "2019-09-04 17:39:29.254604\n"
          ],
          "name": "stdout"
        }
      ]
    },
    {
      "cell_type": "code",
      "metadata": {
        "id": "Eso6UHE080D4",
        "colab_type": "code",
        "outputId": "d52d5dd6-0eac-43ca-a89a-bdb250888a3a",
        "colab": {
          "base_uri": "https://localhost:8080/",
          "height": 35
        }
      },
      "source": [
        "import numpy as np\n",
        "\n",
        "from keras.models import Sequential\n",
        "from keras.layers import Dense, Dropout, Activation, Flatten, Add,Input\n",
        "from keras.layers import Conv2D, MaxPooling2D,SeparableConv2D,BatchNormalization\n",
        "from keras.utils import np_utils\n",
        "from keras.layers.merge import concatenate\n",
        "import tensorflow as tf\n",
        "from keras.models import Model\n",
        "\n",
        "from keras.datasets import mnist\n",
        "print(datetime.datetime.now())"
      ],
      "execution_count": 0,
      "outputs": [
        {
          "output_type": "stream",
          "text": [
            "2019-09-04 17:39:29.267835\n"
          ],
          "name": "stdout"
        }
      ]
    },
    {
      "cell_type": "markdown",
      "metadata": {
        "id": "zByEi95J86RD",
        "colab_type": "text"
      },
      "source": [
        "### Load pre-shuffled MNIST data into train and test sets"
      ]
    },
    {
      "cell_type": "code",
      "metadata": {
        "id": "7eRM0QWN83PV",
        "colab_type": "code",
        "outputId": "f42db234-6891-43a9-da6f-c9d6267f012c",
        "colab": {
          "base_uri": "https://localhost:8080/",
          "height": 35
        }
      },
      "source": [
        "(X_train, y_train), (X_test, y_test) = mnist.load_data()\n",
        "print(datetime.datetime.now())"
      ],
      "execution_count": 0,
      "outputs": [
        {
          "output_type": "stream",
          "text": [
            "2019-09-04 17:39:29.641731\n"
          ],
          "name": "stdout"
        }
      ]
    },
    {
      "cell_type": "code",
      "metadata": {
        "id": "4a4Be72j8-ZC",
        "colab_type": "code",
        "outputId": "44e9688b-b500-4979-b308-89a38965e9ac",
        "colab": {
          "base_uri": "https://localhost:8080/",
          "height": 306
        }
      },
      "source": [
        "print (X_train.shape)\n",
        "from matplotlib import pyplot as plt\n",
        "%matplotlib inline\n",
        "plt.imshow(X_train[0])\n",
        "print(datetime.datetime.now())"
      ],
      "execution_count": 0,
      "outputs": [
        {
          "output_type": "stream",
          "text": [
            "(60000, 28, 28)\n",
            "2019-09-04 17:39:29.691716\n"
          ],
          "name": "stdout"
        },
        {
          "output_type": "display_data",
          "data": {
            "image/png": "[encoded data removed]",
            "text/plain": [
              "<Figure size 432x288 with 1 Axes>"
            ]
          },
          "metadata": {
            "tags": []
          }
        }
      ]
    },
    {
      "cell_type": "code",
      "metadata": {
        "id": "dkmprriw9AnZ",
        "colab_type": "code",
        "outputId": "d28555d4-d353-4fc4-9c84-ab07695959c7",
        "colab": {
          "base_uri": "https://localhost:8080/",
          "height": 35
        }
      },
      "source": [
        "X_train = X_train.reshape(X_train.shape[0], 28, 28,1)\n",
        "X_test = X_test.reshape(X_test.shape[0], 28, 28,1)\n",
        "print(datetime.datetime.now())"
      ],
      "execution_count": 0,
      "outputs": [
        {
          "output_type": "stream",
          "text": [
            "2019-09-04 17:39:29.846278\n"
          ],
          "name": "stdout"
        }
      ]
    },
    {
      "cell_type": "code",
      "metadata": {
        "id": "X2m4YS4E9CRh",
        "colab_type": "code",
        "outputId": "c9baca45-9169-4d39-9a7a-6ee49c19bf7b",
        "colab": {
          "base_uri": "https://localhost:8080/",
          "height": 35
        }
      },
      "source": [
        "X_train = X_train.astype('float32')\n",
        "X_test = X_test.astype('float32')\n",
        "X_train /= 255\n",
        "X_test /= 255\n",
        "print(datetime.datetime.now())"
      ],
      "execution_count": 0,
      "outputs": [
        {
          "output_type": "stream",
          "text": [
            "2019-09-04 17:39:29.974033\n"
          ],
          "name": "stdout"
        }
      ]
    },
    {
      "cell_type": "code",
      "metadata": {
        "id": "0Mn0vAYD9DvB",
        "colab_type": "code",
        "outputId": "1bc1b9c0-d7ca-44a1-965f-f0340f2b8fc9",
        "colab": {
          "base_uri": "https://localhost:8080/",
          "height": 35
        }
      },
      "source": [
        "y_train[:10]\n",
        "print(datetime.datetime.now())"
      ],
      "execution_count": 0,
      "outputs": [
        {
          "output_type": "stream",
          "text": [
            "2019-09-04 17:39:29.983790\n"
          ],
          "name": "stdout"
        }
      ]
    },
    {
      "cell_type": "code",
      "metadata": {
        "id": "ZG8JiXR39FHC",
        "colab_type": "code",
        "outputId": "2665b62e-0e1c-4732-e8f7-8e1a00872ff0",
        "colab": {
          "base_uri": "https://localhost:8080/",
          "height": 35
        }
      },
      "source": [
        "# Convert 1-dimensional class arrays to 10-dimensional class matrices\n",
        "Y_train = np_utils.to_categorical(y_train, 10)\n",
        "Y_test = np_utils.to_categorical(y_test, 10)\n",
        "print(datetime.datetime.now())"
      ],
      "execution_count": 0,
      "outputs": [
        {
          "output_type": "stream",
          "text": [
            "2019-09-04 17:39:29.997610\n"
          ],
          "name": "stdout"
        }
      ]
    },
    {
      "cell_type": "code",
      "metadata": {
        "id": "fYlFRvKS9HMB",
        "colab_type": "code",
        "outputId": "fb2c680f-1dd3-44ce-f34d-5d7bafb66891",
        "colab": {
          "base_uri": "https://localhost:8080/",
          "height": 35
        }
      },
      "source": [
        "Y_train[:10]\n",
        "print(datetime.datetime.now())"
      ],
      "execution_count": 0,
      "outputs": [
        {
          "output_type": "stream",
          "text": [
            "2019-09-04 17:39:30.004681\n"
          ],
          "name": "stdout"
        }
      ]
    },
    {
      "cell_type": "code",
      "metadata": {
        "id": "osKqT73Q9JJB",
        "colab_type": "code",
        "outputId": "908f97ea-bb3f-4fab-e6f5-0cd9b868909e",
        "colab": {
          "base_uri": "https://localhost:8080/",
          "height": 35
        }
      },
      "source": [
        "## MAIN BLOCK\n",
        "\n",
        "from keras.layers import Activation\n",
        "input_shape = (28,28)+(1,)\n",
        "x1 = Input(shape = input_shape)\n",
        "skip_tensor = x1\n",
        "x2 = SeparableConv2D(32,3,strides=1,padding='same',data_format='channels_last',use_bias=False)(x1)\n",
        "x2 = BatchNormalization(axis = 3)(x2)\n",
        "x2 = Activation('relu')(x2)\n",
        "\n",
        "skip_tensor = concatenate([skip_tensor, x2])\n",
        "\n",
        "\n",
        "x3 = SeparableConv2D(64,3,strides=1,padding = 'same',data_format='channels_last',use_bias=False)(skip_tensor)\n",
        "x3 = BatchNormalization(axis = 3)(x3)\n",
        "x3 = Activation('relu')(x3)\n",
        "skip_tensor = concatenate([skip_tensor, x3])\n",
        "\n",
        "\n",
        "#adding Maxpooking layer\n",
        "x4 = MaxPooling2D(pool_size=(2,2),data_format='channels_last')(skip_tensor)\n",
        "\n",
        "skip_tensor = x4\n",
        "\n",
        "x5 = SeparableConv2D(32,3,strides=1,padding='same',data_format='channels_last',use_bias=False)(x4)\n",
        "x5 = BatchNormalization(axis = 3)(x5)\n",
        "x5 = Activation('relu')(x5)\n",
        "\n",
        "skip_tensor = concatenate([skip_tensor, x5])\n",
        "\n",
        "x6 = Conv2D(64, 3,strides=1,padding = 'same',data_format='channels_last',use_bias=False )(skip_tensor)\n",
        "x6 = BatchNormalization(axis = 3)(x6)\n",
        "x6 = Activation('relu')(x6)\n",
        "\n",
        "skip_tensor1 = concatenate([x5, x6])\n",
        "skip_tensor = concatenate([skip_tensor, x6])\n",
        "\n",
        "x7 = Conv2D(128, 3,strides=1,padding = 'same',data_format='channels_last',use_bias=False )(skip_tensor)\n",
        "x7 = BatchNormalization(axis = 3)(x7)\n",
        "x7 = Activation('relu')(x7)\n",
        "\n",
        "skip_tensor = concatenate([skip_tensor1, x7])\n",
        "\n",
        "x8 = MaxPooling2D(pool_size=(2,2),data_format='channels_last')(skip_tensor)\n",
        "\n",
        "x9 = SeparableConv2D(32 ,3,strides=1,padding='same',data_format='channels_last',use_bias=False)(x8)\n",
        "x9 = BatchNormalization(axis = 3)(x9)\n",
        "x9 = Activation('relu')(x9)\n",
        "skip_tensor = concatenate([x8, x9])\n",
        "\n",
        "x10 = Conv2D(64, 3,strides=1,padding = 'same',data_format='channels_last',use_bias=False )(skip_tensor)\n",
        "x10 = BatchNormalization(axis = 3)(x10)\n",
        "x10 = Activation('relu')(x10)\n",
        "\n",
        "\n",
        "skip_tensor = concatenate([skip_tensor, x10])\n",
        "\n",
        "x11 = Conv2D(64, 1,strides=1,padding = 'same',data_format='channels_last',use_bias=False )(skip_tensor)\n",
        "x11 = BatchNormalization(axis = 3)(x11)\n",
        "x11 = Activation('relu')(x11)\n",
        "\n",
        "\n",
        "x = Conv2D(10,7,strides=1,data_format='channels_last',use_bias=False)(x11)\n",
        "\n",
        "x = Flatten()(x)\n",
        "output = Activation('softmax')(x)\n",
        "print(datetime.datetime.now())"
      ],
      "execution_count": 0,
      "outputs": [
        {
          "output_type": "stream",
          "text": [
            "2019-09-04 17:39:30.788646\n"
          ],
          "name": "stdout"
        }
      ]
    },
    {
      "cell_type": "code",
      "metadata": {
        "id": "TzdAYg1k9K7Z",
        "colab_type": "code",
        "outputId": "d50bf7ce-4f1c-4ae4-b6a7-79f1bbb32076",
        "colab": {
          "base_uri": "https://localhost:8080/",
          "height": 1000
        }
      },
      "source": [
        "model = Model(inputs=x1, outputs=output)\n",
        "model.summary()\n",
        "\n",
        "print(datetime.datetime.now())"
      ],
      "execution_count": 0,
      "outputs": [
        {
          "output_type": "stream",
          "text": [
            "Model: \"model_2\"\n",
            "__________________________________________________________________________________________________\n",
            "Layer (type)                    Output Shape         Param #     Connected to                     \n",
            "==================================================================================================\n",
            "input_2 (InputLayer)            (None, 28, 28, 1)    0                                            \n",
            "__________________________________________________________________________________________________\n",
            "separable_conv2d_5 (SeparableCo (None, 28, 28, 32)   41          input_2[0][0]                    \n",
            "__________________________________________________________________________________________________\n",
            "batch_normalization_9 (BatchNor (None, 28, 28, 32)   128         separable_conv2d_5[0][0]         \n",
            "__________________________________________________________________________________________________\n",
            "activation_10 (Activation)      (None, 28, 28, 32)   0           batch_normalization_9[0][0]      \n",
            "__________________________________________________________________________________________________\n",
            "concatenate_9 (Concatenate)     (None, 28, 28, 33)   0           input_2[0][0]                    \n",
            "                                                                 activation_10[0][0]              \n",
            "__________________________________________________________________________________________________\n",
            "separable_conv2d_6 (SeparableCo (None, 28, 28, 64)   2409        concatenate_9[0][0]              \n",
            "__________________________________________________________________________________________________\n",
            "batch_normalization_10 (BatchNo (None, 28, 28, 64)   256         separable_conv2d_6[0][0]         \n",
            "__________________________________________________________________________________________________\n",
            "activation_11 (Activation)      (None, 28, 28, 64)   0           batch_normalization_10[0][0]     \n",
            "__________________________________________________________________________________________________\n",
            "concatenate_10 (Concatenate)    (None, 28, 28, 97)   0           concatenate_9[0][0]              \n",
            "                                                                 activation_11[0][0]              \n",
            "__________________________________________________________________________________________________\n",
            "max_pooling2d_3 (MaxPooling2D)  (None, 14, 14, 97)   0           concatenate_10[0][0]             \n",
            "__________________________________________________________________________________________________\n",
            "separable_conv2d_7 (SeparableCo (None, 14, 14, 32)   3977        max_pooling2d_3[0][0]            \n",
            "__________________________________________________________________________________________________\n",
            "batch_normalization_11 (BatchNo (None, 14, 14, 32)   128         separable_conv2d_7[0][0]         \n",
            "__________________________________________________________________________________________________\n",
            "activation_12 (Activation)      (None, 14, 14, 32)   0           batch_normalization_11[0][0]     \n",
            "__________________________________________________________________________________________________\n",
            "concatenate_11 (Concatenate)    (None, 14, 14, 129)  0           max_pooling2d_3[0][0]            \n",
            "                                                                 activation_12[0][0]              \n",
            "__________________________________________________________________________________________________\n",
            "conv2d_6 (Conv2D)               (None, 14, 14, 64)   74304       concatenate_11[0][0]             \n",
            "__________________________________________________________________________________________________\n",
            "batch_normalization_12 (BatchNo (None, 14, 14, 64)   256         conv2d_6[0][0]                   \n",
            "__________________________________________________________________________________________________\n",
            "activation_13 (Activation)      (None, 14, 14, 64)   0           batch_normalization_12[0][0]     \n",
            "__________________________________________________________________________________________________\n",
            "concatenate_13 (Concatenate)    (None, 14, 14, 193)  0           concatenate_11[0][0]             \n",
            "                                                                 activation_13[0][0]              \n",
            "__________________________________________________________________________________________________\n",
            "conv2d_7 (Conv2D)               (None, 14, 14, 128)  222336      concatenate_13[0][0]             \n",
            "__________________________________________________________________________________________________\n",
            "batch_normalization_13 (BatchNo (None, 14, 14, 128)  512         conv2d_7[0][0]                   \n",
            "__________________________________________________________________________________________________\n",
            "concatenate_12 (Concatenate)    (None, 14, 14, 96)   0           activation_12[0][0]              \n",
            "                                                                 activation_13[0][0]              \n",
            "__________________________________________________________________________________________________\n",
            "activation_14 (Activation)      (None, 14, 14, 128)  0           batch_normalization_13[0][0]     \n",
            "__________________________________________________________________________________________________\n",
            "concatenate_14 (Concatenate)    (None, 14, 14, 224)  0           concatenate_12[0][0]             \n",
            "                                                                 activation_14[0][0]              \n",
            "__________________________________________________________________________________________________\n",
            "max_pooling2d_4 (MaxPooling2D)  (None, 7, 7, 224)    0           concatenate_14[0][0]             \n",
            "__________________________________________________________________________________________________\n",
            "separable_conv2d_8 (SeparableCo (None, 7, 7, 32)     9184        max_pooling2d_4[0][0]            \n",
            "__________________________________________________________________________________________________\n",
            "batch_normalization_14 (BatchNo (None, 7, 7, 32)     128         separable_conv2d_8[0][0]         \n",
            "__________________________________________________________________________________________________\n",
            "activation_15 (Activation)      (None, 7, 7, 32)     0           batch_normalization_14[0][0]     \n",
            "__________________________________________________________________________________________________\n",
            "concatenate_15 (Concatenate)    (None, 7, 7, 256)    0           max_pooling2d_4[0][0]            \n",
            "                                                                 activation_15[0][0]              \n",
            "__________________________________________________________________________________________________\n",
            "conv2d_8 (Conv2D)               (None, 7, 7, 64)     147456      concatenate_15[0][0]             \n",
            "__________________________________________________________________________________________________\n",
            "batch_normalization_15 (BatchNo (None, 7, 7, 64)     256         conv2d_8[0][0]                   \n",
            "__________________________________________________________________________________________________\n",
            "activation_16 (Activation)      (None, 7, 7, 64)     0           batch_normalization_15[0][0]     \n",
            "__________________________________________________________________________________________________\n",
            "concatenate_16 (Concatenate)    (None, 7, 7, 320)    0           concatenate_15[0][0]             \n",
            "                                                                 activation_16[0][0]              \n",
            "__________________________________________________________________________________________________\n",
            "conv2d_9 (Conv2D)               (None, 7, 7, 64)     20480       concatenate_16[0][0]             \n",
            "__________________________________________________________________________________________________\n",
            "batch_normalization_16 (BatchNo (None, 7, 7, 64)     256         conv2d_9[0][0]                   \n",
            "__________________________________________________________________________________________________\n",
            "activation_17 (Activation)      (None, 7, 7, 64)     0           batch_normalization_16[0][0]     \n",
            "__________________________________________________________________________________________________\n",
            "conv2d_10 (Conv2D)              (None, 1, 1, 10)     31360       activation_17[0][0]              \n",
            "__________________________________________________________________________________________________\n",
            "flatten_2 (Flatten)             (None, 10)           0           conv2d_10[0][0]                  \n",
            "__________________________________________________________________________________________________\n",
            "activation_18 (Activation)      (None, 10)           0           flatten_2[0][0]                  \n",
            "==================================================================================================\n",
            "Total params: 513,467\n",
            "Trainable params: 512,507\n",
            "Non-trainable params: 960\n",
            "__________________________________________________________________________________________________\n",
            "2019-09-04 17:39:30.809513\n"
          ],
          "name": "stdout"
        }
      ]
    },
    {
      "cell_type": "code",
      "metadata": {
        "id": "Zp6SuGrL9M3h",
        "colab_type": "code",
        "outputId": "13e09e89-2bd7-475b-d8e6-19cd94e59def",
        "colab": {
          "base_uri": "https://localhost:8080/",
          "height": 35
        }
      },
      "source": [
        "model.compile(loss='categorical_crossentropy',\n",
        "             optimizer='adam',\n",
        "             metrics=['accuracy'])\n",
        "print(datetime.datetime.now())"
      ],
      "execution_count": 0,
      "outputs": [
        {
          "output_type": "stream",
          "text": [
            "2019-09-04 17:39:30.849336\n"
          ],
          "name": "stdout"
        }
      ]
    },
    {
      "cell_type": "code",
      "metadata": {
        "id": "4xWoKhPY9Of5",
        "colab_type": "code",
        "outputId": "7af721d4-9fcc-4f0e-e265-fdba416b47be",
        "colab": {
          "base_uri": "https://localhost:8080/",
          "height": 738
        }
      },
      "source": [
        "model.fit(X_train, Y_train, batch_size=32, nb_epoch=10, verbose=1)\n",
        "print(datetime.datetime.now())"
      ],
      "execution_count": 0,
      "outputs": [
        {
          "output_type": "stream",
          "text": [
            "60000/60000 [==============================] - 25s 419us/step - loss: 0.0301 - acc: 0.9903\n",
            "Epoch 4/10\n",
            "60000/60000 [==============================] - 25s 409us/step - loss: 0.0261 - acc: 0.9917\n",
            "Epoch 5/10\n",
            "60000/60000 [==============================] - 25s 409us/step - loss: 0.0189 - acc: 0.9940\n",
            "Epoch 6/10\n",
            "60000/60000 [==============================] - 25s 412us/step - loss: 0.0154 - acc: 0.9951\n",
            "Epoch 7/10\n",
            "60000/60000 [==============================] - 24s 408us/step - loss: 0.0137 - acc: 0.9951\n",
            "Epoch 8/10\n",
            "60000/60000 [==============================] - 25s 410us/step - loss: 0.0105 - acc: 0.9964\n",
            "Epoch 9/10\n",
            "60000/60000 [==============================] - 24s 407us/step - loss: 0.0090 - acc: 0.9970\n",
            "Epoch 10/10\n",
            "60000/60000 [==============================] - 24s 408us/step - loss: 0.0085 - acc: 0.9972\n",
            "2019-09-04 17:39:21.656227\n"
          ],
          "name": "stdout"
        },
        {
          "output_type": "stream",
          "text": [
            "/usr/local/lib/python3.6/dist-packages/ipykernel_launcher.py:1: UserWarning: The `nb_epoch` argument in `fit` has been renamed `epochs`.\n",
            "  \"\"\"Entry point for launching an IPython kernel.\n"
          ],
          "name": "stderr"
        },
        {
          "output_type": "stream",
          "text": [
            "Epoch 1/10\n",
            "60000/60000 [==============================] - 26s 440us/step - loss: 0.1010 - acc: 0.9689\n",
            "Epoch 2/10\n",
            "60000/60000 [==============================] - 25s 414us/step - loss: 0.0450 - acc: 0.9861\n",
            "Epoch 3/10\n",
            "60000/60000 [==============================] - 25s 413us/step - loss: 0.0327 - acc: 0.9896\n",
            "Epoch 4/10\n",
            "60000/60000 [==============================] - 26s 425us/step - loss: 0.0243 - acc: 0.9922\n",
            "Epoch 5/10\n",
            "60000/60000 [==============================] - 32s 539us/step - loss: 0.0197 - acc: 0.9939\n",
            "Epoch 6/10\n",
            "60000/60000 [==============================] - 54s 901us/step - loss: 0.0150 - acc: 0.9950\n",
            "Epoch 7/10\n",
            "60000/60000 [==============================] - 54s 900us/step - loss: 0.0128 - acc: 0.9956\n",
            "Epoch 8/10\n",
            "60000/60000 [==============================] - 54s 902us/step - loss: 0.0105 - acc: 0.9962\n",
            "Epoch 9/10\n",
            "60000/60000 [==============================] - 54s 904us/step - loss: 0.0077 - acc: 0.9971\n",
            "Epoch 10/10\n",
            "60000/60000 [==============================] - 54s 897us/step - loss: 0.0070 - acc: 0.9977\n",
            "2019-09-04 17:46:16.029144\n"
          ],
          "name": "stdout"
        }
      ]
    },
    {
      "cell_type": "code",
      "metadata": {
        "id": "AtsH-lLk-eLb",
        "colab_type": "code",
        "outputId": "4f0aa161-7d44-47b1-ff5f-ddc3b31aec1f",
        "colab": {
          "base_uri": "https://localhost:8080/",
          "height": 54
        }
      },
      "source": [
        "score = model.evaluate(X_test, Y_test, verbose=0)\n",
        "print(datetime.datetime.now())"
      ],
      "execution_count": 0,
      "outputs": [
        {
          "output_type": "stream",
          "text": [
            "2019-09-04 17:39:23.220771\n",
            "2019-09-04 17:46:19.360059\n"
          ],
          "name": "stdout"
        }
      ]
    },
    {
      "cell_type": "code",
      "metadata": {
        "id": "mkX8JMv79q9r",
        "colab_type": "code",
        "outputId": "61eb4197-2ecd-4785-8fdf-a94287ef5ab4",
        "colab": {
          "base_uri": "https://localhost:8080/",
          "height": 91
        }
      },
      "source": [
        "print(score)\n",
        "print(datetime.datetime.now())"
      ],
      "execution_count": 0,
      "outputs": [
        {
          "output_type": "stream",
          "text": [
            "[0.03157059769564848, 0.9917]\n",
            "2019-09-04 17:39:23.237345\n",
            "[0.030573644120725975, 0.9919]\n",
            "2019-09-04 17:46:19.380751\n"
          ],
          "name": "stdout"
        }
      ]
    },
    {
      "cell_type": "code",
      "metadata": {
        "id": "5k-oqF15OIdR",
        "colab_type": "code",
        "colab": {}
      },
      "source": [
        ""
      ],
      "execution_count": 0,
      "outputs": []
    }
  ]
}