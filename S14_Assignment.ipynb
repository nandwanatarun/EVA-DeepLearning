{
  "nbformat": 4,
  "nbformat_minor": 0,
  "metadata": {
    "colab": {
      "name": "S14_Assignment.ipynb",
      "provenance": [],
      "machine_shape": "hm",
      "include_colab_link": true
    },
    "kernelspec": {
      "name": "python3",
      "display_name": "Python 3"
    },
    "accelerator": "GPU"
  },
  "cells": [
    {
      "cell_type": "markdown",
      "metadata": {
        "id": "view-in-github",
        "colab_type": "text"
      },
      "source": [
        "<a href=\"https://colab.research.google.com/github/nandwanatarun/EVA-DeepLearning/blob/Session-14/S14_Assignment.ipynb\" target=\"_parent\"><img src=\"https://colab.research.google.com/assets/colab-badge.svg\" alt=\"Open In Colab\"/></a>"
      ]
    },
    {
      "cell_type": "markdown",
      "metadata": {
        "id": "c29KVmfSEX3g",
        "colab_type": "text"
      },
      "source": [
        "**Resources**\n",
        "\n",
        "- XLA\n",
        "\n",
        "    - [Google Notebook example](https://colab.research.google.com/github/tensorflow/tensorflow/blob/master/tensorflow/compiler/xla/g3doc/tutorials/xla_compile.ipynb)\n",
        "\n",
        "    - [Blog](https://medium.com/@xianbao.qian/use-xla-with-keras-3ca5d0309c26)\n",
        "    \n",
        "- Mixed Precision\n",
        "\n",
        "- Augmentation Libs\n",
        "    - [imgaug](https://github.com/aleju/imgaug)\n",
        "    - [albumentations](https://github.com/albu/albumentations)\n",
        "    - [Automold](https://github.com/UjjwalSaxena/Automold--Road-Augmentation-Library)\n",
        "    - [Tensorflow Examples](https://www.wouterbulten.nl/blog/tech/data-augmentation-using-tensorflow-data-dataset/)"
      ]
    },
    {
      "cell_type": "code",
      "metadata": {
        "colab_type": "code",
        "id": "kOsYqWHvQBrZ",
        "outputId": "69a25d75-9858-49b8-caf6-9e146c1f0d3a",
        "colab": {
          "base_uri": "https://localhost:8080/",
          "height": 268
        }
      },
      "source": [
        "import numpy as np\n",
        "import skimage\n",
        "print(np.__version__)\n",
        "print(skimage.__version__)\n",
        "\n",
        "import time, math\n",
        "from tqdm import tqdm_notebook as tqdm\n",
        "\n",
        "import tensorflow as tf\n",
        "import tensorflow.contrib.eager as tfe\n",
        "import gc\n",
        "print(tf.__version__)\n",
        "\n",
        "import matplotlib.pyplot as plt\n",
        "% matplotlib inline\n",
        "%config InlineBackend.figure_format='retina'\n",
        "\n",
        "from IPython.core.interactiveshell import InteractiveShell\n",
        "InteractiveShell.ast_node_interactivity = \"all\"\n",
        "\n",
        "import imgaug.augmenters as iaa\n",
        "\n",
        "\n",
        "\n",
        "from albumentations import (\n",
        "    HorizontalFlip, IAAPerspective, ShiftScaleRotate, CLAHE, RandomRotate90,RandomScale,Rotate,HorizontalFlip,\n",
        "    Transpose, ShiftScaleRotate, Blur, OpticalDistortion, GridDistortion, HueSaturationValue,RandomCrop,PadIfNeeded,\n",
        "    IAAAdditiveGaussianNoise, GaussNoise, MotionBlur, MedianBlur, IAAPiecewiseAffine,#RandomFog,\n",
        "    GridDistortion,\n",
        "    IAASharpen, IAAEmboss, RandomBrightnessContrast, Flip, OneOf, Compose, #ChannelDropout, \n",
        "    ChannelShuffle,RandomContrast\n",
        ")"
      ],
      "execution_count": 1,
      "outputs": [
        {
          "output_type": "stream",
          "text": [
            "1.17.4\n",
            "0.15.0\n"
          ],
          "name": "stdout"
        },
        {
          "output_type": "display_data",
          "data": {
            "text/html": [
              "<p style=\"color: red;\">\n",
              "The default version of TensorFlow in Colab will soon switch to TensorFlow 2.x.<br>\n",
              "We recommend you <a href=\"https://www.tensorflow.org/guide/migrate\" target=\"_blank\">upgrade</a> now \n",
              "or ensure your notebook will continue to use TensorFlow 1.x via the <code>%tensorflow_version 1.x</code> magic:\n",
              "<a href=\"https://colab.research.google.com/notebooks/tensorflow_version.ipynb\" target=\"_blank\">more info</a>.</p>\n"
            ],
            "text/plain": [
              "<IPython.core.display.HTML object>"
            ]
          },
          "metadata": {
            "tags": []
          }
        },
        {
          "output_type": "stream",
          "text": [
            "WARNING:tensorflow:\n",
            "The TensorFlow contrib module will not be included in TensorFlow 2.0.\n",
            "For more information, please see:\n",
            "  * https://github.com/tensorflow/community/blob/master/rfcs/20180907-contrib-sunset.md\n",
            "  * https://github.com/tensorflow/addons\n",
            "  * https://github.com/tensorflow/io (for I/O related ops)\n",
            "If you depend on functionality not listed there, please file an issue.\n",
            "\n",
            "1.15.0\n"
          ],
          "name": "stdout"
        }
      ]
    },
    {
      "cell_type": "code",
      "metadata": {
        "colab_type": "code",
        "id": "KcVY1UhnQPDO",
        "colab": {}
      },
      "source": [
        "tf.enable_eager_execution()\n",
        "# tf.random.set_random_seed(1234)"
      ],
      "execution_count": 0,
      "outputs": []
    },
    {
      "cell_type": "code",
      "metadata": {
        "colab_type": "code",
        "id": "4LfLeMAyQU7z",
        "outputId": "a4c196bf-a3e9-4c45-afce-48ebba27ce75",
        "colab": {
          "base_uri": "https://localhost:8080/",
          "height": 35
        }
      },
      "source": [
        "BATCH_SIZE = 512 #@param {type:\"integer\"}\n",
        "MOMENTUM = 0.9 #@param {type:\"number\"}\n",
        "LEARNING_RATE = 0.4 #@param {type:\"number\"}\n",
        "WEIGHT_DECAY = 5e-4 #@param {type:\"number\"}\n",
        "EPOCHS = 24 #@param {type:\"integer\"}\n",
        "cutout_proba = 0.4\n",
        "shift_proba = 0.0\n",
        "scale_proba = 0.15\n",
        "rotate_proba = 0.2\n",
        "rot90_proba = 0.0\n",
        "grid_proba = 0.25\n",
        "\n",
        "no_aug_proba = 0.6\n",
        "\n",
        "print(cutout_proba + shift_proba + scale_proba + rotate_proba + rot90_proba + grid_proba)\n",
        "\n",
        "max_augs_per_image = 2\n",
        "\n",
        "mixed_precision = False\n",
        "xla_enabled = False\n"
      ],
      "execution_count": 3,
      "outputs": [
        {
          "output_type": "stream",
          "text": [
            "1.0\n"
          ],
          "name": "stdout"
        }
      ]
    },
    {
      "cell_type": "code",
      "metadata": {
        "id": "Vkq_6ZRgEX4i",
        "colab_type": "code",
        "outputId": "27355153-111f-4796-f59a-c52239e349f7",
        "colab": {
          "base_uri": "https://localhost:8080/",
          "height": 54
        }
      },
      "source": [
        "# Half Precision Checks\n",
        "from tensorflow.python.client import device_lib\n",
        "\n",
        "def check_tensor_core_gpu_present():\n",
        "    local_device_protos = device_lib.list_local_devices()\n",
        "    for line in local_device_protos:\n",
        "        if \"compute capability\" in str(line):\n",
        "            compute_capability = float(line.physical_device_desc.split(\"compute capability: \")[-1])\n",
        "            if compute_capability>=7.0:\n",
        "                return True\n",
        "\n",
        "print(\"TensorFlow version is\", tf.__version__)\n",
        "\n",
        "try:\n",
        "    # check and assert TensorFlow >= 1.14\n",
        "    tf_version_list = tf.__version__.split(\".\")\n",
        "    if int(tf_version_list[0]) < 2:\n",
        "        assert int(tf_version_list[1]) >= 14\n",
        "except:\n",
        "    print(\"TensorFlow 1.14.0 or newer is required.\")\n",
        "    \n",
        "print(\"Tensor Core GPU Present:\", check_tensor_core_gpu_present())\n",
        "#assert check_tensor_core_gpu_present() == True"
      ],
      "execution_count": 4,
      "outputs": [
        {
          "output_type": "stream",
          "text": [
            "TensorFlow version is 1.15.0\n",
            "Tensor Core GPU Present: None\n"
          ],
          "name": "stdout"
        }
      ]
    },
    {
      "cell_type": "code",
      "metadata": {
        "id": "t2XtRu2JEX4q",
        "colab_type": "code",
        "colab": {}
      },
      "source": [
        "if xla_enabled:\n",
        "    config = tf.ConfigProto()\n",
        "    jit_level = tf.OptimizerOptions.ON_1\n",
        "    config.graph_options.optimizer_options.global_jit_level = jit_level\n",
        "\n",
        "    sess = tf.Session(config=config)\n",
        "    tf.keras.backend.set_session(sess)\n"
      ],
      "execution_count": 0,
      "outputs": []
    },
    {
      "cell_type": "code",
      "metadata": {
        "id": "CZhohilTEX44",
        "colab_type": "code",
        "colab": {}
      },
      "source": [
        "\n",
        "def get_cutout_eraser(p=0.5, s_l=0.05, s_h=0.15, r_1=0.4, r_2=1 / 0.4, \n",
        "                      v_l=-1,v_h=1,\n",
        "                      max_erasures_per_image=1, pixel_level=True):\n",
        "    \"\"\"\n",
        "\n",
        "    :param p:\n",
        "    :param s_l: Minimum Area Proportion of Original that may be cut\n",
        "    :param s_h: Maximum Area Proportion of Original that may be cut\n",
        "    :param r_1: Min Aspect Ratio\n",
        "    :param r_2: Max Aspect Ratio\n",
        "    :param max_erasures_per_image:\n",
        "    :param pixel_level:\n",
        "    :return: Eraser to be used as Preprocessing Function\n",
        "    \"\"\"\n",
        "    assert max_erasures_per_image >= 1\n",
        "\n",
        "    def eraser(input_img):\n",
        "        img_h, img_w, img_c = input_img.shape\n",
        "        shape = input_img.shape\n",
        "        p_1 = np.random.rand()\n",
        "\n",
        "        if p_1 > p:\n",
        "            return input_img\n",
        "        mx = np.random.randint(1, max_erasures_per_image + 1)\n",
        "        for i in range(mx):\n",
        "            while True:\n",
        "                s = np.random.uniform(s_l, s_h) * img_h * img_w\n",
        "                r = np.random.uniform(r_1, r_2)\n",
        "                w = int(np.sqrt(s / r))\n",
        "                h = int(np.sqrt(s * r))\n",
        "                left = np.random.randint(0, img_w)\n",
        "                top = np.random.randint(0, img_h)\n",
        "\n",
        "                if left + w <= img_w and top + h <= img_h:\n",
        "                    break\n",
        "\n",
        "            # print(\"W = \",w,\"H = \",h,end =\", \")\n",
        "\n",
        "            if pixel_level:\n",
        "                c = np.random.uniform(v_l, v_h, (h, w, img_c))\n",
        "            else:\n",
        "                c = np.random.uniform(v_l, v_h)\n",
        "\n",
        "#             input_img = tf.Variable(input_img)\n",
        "#             input_img = input_img[top:top + h, left:left + w, :].assign(tf.constant(c, shape=(h, w, img_c)))\n",
        "            input_img[top:top + h, left:left + w, :] = c\n",
        "#         \n",
        "        return input_img\n",
        "\n",
        "    return eraser\n",
        "\n",
        "\n"
      ],
      "execution_count": 0,
      "outputs": []
    },
    {
      "cell_type": "code",
      "metadata": {
        "colab_type": "code",
        "id": "AwS9BRv_QWR0",
        "colab": {}
      },
      "source": [
        "def init_pytorch(shape, dtype=tf.float32, partition_info=None):\n",
        "    fan = np.prod(shape[:-1])\n",
        "    bound = 1 / math.sqrt(fan)\n",
        "    return tf.random.uniform(shape, minval=-bound, maxval=bound, dtype=dtype)"
      ],
      "execution_count": 0,
      "outputs": []
    },
    {
      "cell_type": "code",
      "metadata": {
        "colab_type": "code",
        "id": "gQdPrpJ8QXvy",
        "colab": {}
      },
      "source": [
        "class ConvBN(tf.keras.Model):\n",
        "    def __init__(self, c_out):\n",
        "        super().__init__()\n",
        "        self.conv = tf.keras.layers.Conv2D(filters=c_out, kernel_size=3, padding=\"SAME\", kernel_initializer=init_pytorch, use_bias=False)\n",
        "        self.bn = tf.keras.layers.BatchNormalization(momentum=0.9, epsilon=1e-5)\n",
        "\n",
        "    def call(self, inputs):\n",
        "        return tf.nn.relu(self.bn(self.conv(inputs)))"
      ],
      "execution_count": 0,
      "outputs": []
    },
    {
      "cell_type": "code",
      "metadata": {
        "colab_type": "code",
        "id": "oBuqNlb7QZc9",
        "colab": {}
      },
      "source": [
        "class ResBlk(tf.keras.Model):\n",
        "    def __init__(self, c_out, pool, res = False):\n",
        "        super().__init__()\n",
        "        self.conv_bn = ConvBN(c_out)\n",
        "        self.pool = pool\n",
        "        self.res = res\n",
        "        if self.res:\n",
        "            self.res1 = ConvBN(c_out)\n",
        "            self.res2 = ConvBN(c_out)\n",
        "\n",
        "    def call(self, inputs):\n",
        "        h = self.pool(self.conv_bn(inputs))\n",
        "        if self.res:\n",
        "            h = h + self.res2(self.res1(h))\n",
        "        return h"
      ],
      "execution_count": 0,
      "outputs": []
    },
    {
      "cell_type": "code",
      "metadata": {
        "colab_type": "code",
        "id": "uB5ENbbjQa7r",
        "colab": {}
      },
      "source": [
        "class DavidNet(tf.keras.Model):\n",
        "    def __init__(self, c=64, weight=0.125):\n",
        "        super().__init__()\n",
        "        pool = tf.keras.layers.MaxPooling2D()\n",
        "        self.init_conv_bn = ConvBN(c)\n",
        "        self.blk1 = ResBlk(c*2, pool, res = True)\n",
        "        self.blk2 = ResBlk(c*4, pool)\n",
        "        self.blk3 = ResBlk(c*8, pool, res = True)\n",
        "        self.pool = tf.keras.layers.GlobalMaxPool2D()\n",
        "        self.linear = tf.keras.layers.Dense(10, kernel_initializer=init_pytorch, use_bias=False)\n",
        "        self.weight = weight\n",
        "\n",
        "    def call(self, x, y):\n",
        "        h = self.pool(self.blk3(self.blk2(self.blk1(self.init_conv_bn(x)))))\n",
        "        h = self.linear(h) * self.weight\n",
        "        ce = tf.nn.sparse_softmax_cross_entropy_with_logits(logits=h, labels=y)\n",
        "        loss = tf.reduce_sum(ce)\n",
        "        correct = tf.reduce_sum(tf.cast(tf.math.equal(tf.argmax(h, axis = 1), y), tf.float32))\n",
        "        return loss, correct"
      ],
      "execution_count": 0,
      "outputs": []
    },
    {
      "cell_type": "code",
      "metadata": {
        "colab_type": "code",
        "id": "EQC9BguoQcfp",
        "colab": {
          "base_uri": "https://localhost:8080/",
          "height": 54
        },
        "outputId": "ce9655b0-0da2-45bf-da96-abbbdae53f92"
      },
      "source": [
        "(x_train, y_train), (x_test, y_test) = tf.keras.datasets.cifar10.load_data()\n",
        "classes = ['airplane','automobile','bird','cat','deer','dog','frog','horse','ship','truck']\n",
        "len_train, len_test = len(x_train), len(x_test)\n",
        "y_train = y_train.astype('int64').reshape(len_train)\n",
        "y_test = y_test.astype('int64').reshape(len_test)\n",
        "\n",
        "train_mean = np.mean(x_train, axis=(0,1,2))\n",
        "train_std = np.std(x_train, axis=(0,1,2))\n",
        "\n",
        "normalize = lambda x: ((x - train_mean) / train_std).astype('float32') # todo: check here\n",
        "pad4 = lambda x: np.pad(x, [(0, 0), (4, 4), (4, 4), (0, 0)], mode='mean')\n",
        "\n",
        "x_train = normalize(pad4(x_train))\n",
        "x_test = normalize(x_test)"
      ],
      "execution_count": 11,
      "outputs": [
        {
          "output_type": "stream",
          "text": [
            "Downloading data from https://www.cs.toronto.edu/~kriz/cifar-10-python.tar.gz\n",
            "170500096/170498071 [==============================] - 11s 0us/step\n"
          ],
          "name": "stdout"
        }
      ]
    },
    {
      "cell_type": "code",
      "metadata": {
        "id": "JkFD_rFTEX6B",
        "colab_type": "code",
        "outputId": "b45d5591-b0c0-48d3-c0ff-16760d642006",
        "colab": {
          "base_uri": "https://localhost:8080/",
          "height": 298
        }
      },
      "source": [
        "exampleId = 1\n",
        "example = x_train[exampleId]\n",
        "example = (example - np.min(example))/(np.max(example)-np.min(example))\n",
        "plt.figure()\n",
        "plt.title(classes[y_train[exampleId]])\n",
        "example = np.rot90(example, k=0)\n",
        "plt.imshow(example)\n",
        "plt.show()"
      ],
      "execution_count": 12,
      "outputs": [
        {
          "output_type": "execute_result",
          "data": {
            "text/plain": [
              "<Figure size 432x288 with 0 Axes>"
            ]
          },
          "metadata": {
            "tags": []
          },
          "execution_count": 12
        },
        {
          "output_type": "execute_result",
          "data": {
            "text/plain": [
              "Text(0.5, 1.0, 'truck')"
            ]
          },
          "metadata": {
            "tags": []
          },
          "execution_count": 12
        },
        {
          "output_type": "execute_result",
          "data": {
            "text/plain": [
              "<matplotlib.image.AxesImage at 0x7f9593ce4b70>"
            ]
          },
          "metadata": {
            "tags": []
          },
          "execution_count": 12
        },
        {
          "output_type": "display_data",
          "data": {
            "image/png": "[encoded data removed]",
            "text/plain": [
              "<Figure size 432x288 with 1 Axes>"
            ]
          },
          "metadata": {
            "tags": [],
            "image/png": {
              "width": 251,
              "height": 263
            }
          }
        }
      ]
    },
    {
      "cell_type": "code",
      "metadata": {
        "colab_type": "code",
        "id": "2-rBodFhQeNZ",
        "outputId": "deb9380a-b5c6-420c-939c-890d4e6f09c0",
        "colab": {
          "base_uri": "https://localhost:8080/",
          "height": 35
        }
      },
      "source": [
        "print(gc.collect())\n",
        "\n",
        "model = DavidNet(weight=0.125)\n",
        "batches_per_epoch = len_train//BATCH_SIZE + 1\n",
        "\n",
        "# lr_schedule = lambda t: np.interp([t], [0, (EPOCHS+1)//5, EPOCHS], [0, LEARNING_RATE, 0])[0]\n",
        "\n",
        "lr_schedule = lambda t: np.interp([t], [0.0001, (EPOCHS+1)//5, EPOCHS-3, EPOCHS-2,EPOCHS-1, EPOCHS], [0, LEARNING_RATE, 0.09,0.06,0.03,0.001])[0]\n",
        "\n",
        "\n",
        "\n",
        "global_step = tf.train.get_or_create_global_step()\n",
        "lr_func = lambda: lr_schedule(global_step/batches_per_epoch)/BATCH_SIZE\n",
        "opt = tf.train.MomentumOptimizer(lr_func, momentum=MOMENTUM, use_nesterov=True)\n",
        "\n",
        "if mixed_precision:\n",
        "    opt = tf.train.experimental.enable_mixed_precision_graph_rewrite(opt)\n",
        "\n",
        "data_aug1 = lambda x, y: (tf.image.random_flip_left_right(tf.random_crop(x, [32, 32, 3])), y)\n",
        "# data_aug1 = lambda x,y: (x,y)\n",
        "data_aug2 = lambda x,y: (tf.image.random_hue(tf.image.random_brightness(x,max_delta=0.1),max_delta=0.1),y)\n",
        "# data_aug2 = lambda x,y: (x,y)\n",
        "data_aug3 = lambda x, y: (tf.image.random_contrast(tf.image.random_saturation(x, 0.7, 1.3),0.7, 1.3), y)\n",
        "# data_aug3 = lambda x,y: (x,y)\n",
        "data_aug = lambda x, y:data_aug1(*data_aug2(*data_aug3(x,y)))\n",
        "\n",
        "# rot90 = lambda x,y: (tf.image.rot90(x, np.random.choice([0,1,3],p=[1-rot90_proba,rot90_proba/2,rot90_proba/2])),y)\n",
        "\n",
        "cutout_fn = get_cutout_eraser(p=1.0, pixel_level=True)\n",
        "\n",
        "# rotate_one = lambda x : tf.keras.preprocessing.image.random_rotation(x, rg=45, row_axis=0,col_axis=1,channel_axis=2)\n",
        "\n",
        "\n",
        "\n",
        "ssr = ShiftScaleRotate(shift_limit=0.1, scale_limit=0.1, rotate_limit=30,p=1.0)\n",
        "rotate_one = lambda x: ssr(image=x)['image']\n",
        "\n",
        "# \n",
        "rt = Rotate(limit=30,p=1.0)\n",
        "rotate_one = lambda x: rt(image=x)['image']\n",
        "\n",
        "rs = RandomScale(scale_limit=0.1, p=1.0)\n",
        "scale_one = lambda x: rs(image=x)['image']\n",
        "\n",
        "rshift = ShiftScaleRotate(shift_limit=0.05, scale_limit=0.0, rotate_limit=0,p=1.0)\n",
        "shift_one = lambda x: rshift(image=x)['image']\n",
        "\n",
        "gds = GridDistortion(num_steps=8, distort_limit=0.3,p=1.0)\n",
        "gds_one = lambda x: gds(image=x)['image']\n",
        "\n",
        "rcr = RandomCrop(40,40,p=1.0)\n",
        "rcrop_one = lambda x: rcr(image=x)['image']\n",
        "\n",
        "pad = PadIfNeeded(40,40)\n",
        "pad_one = lambda x: pad(image=x)['image']\n",
        "\n",
        "rot90_one = lambda x:np.rot90(x, k=np.random.choice([1,3]))\n",
        "\n",
        "def constrained_augs(imgs,epoch):\n",
        "    imgs = np.copy(imgs)\n",
        "    fns = [cutout_fn,shift_one,scale_one,rotate_one,rot90_one,gds_one]\n",
        "    probas = [cutout_proba,shift_proba,scale_proba,rotate_proba,rot90_proba,grid_proba]\n",
        "    for i,im in enumerate(imgs):\n",
        "        num_augs = np.random.choice(list(range(max_augs_per_image+1)),p=[no_aug_proba]+[(1-no_aug_proba)/max_augs_per_image]*max_augs_per_image)   \n",
        "        choices = np.random.choice(list(range(6)),size=num_augs,replace=False,p=probas)   \n",
        "        \n",
        "        if 4 in choices:\n",
        "            choices = [4]\n",
        "        \n",
        "#         print(choices)\n",
        "        \n",
        "        for j in choices:\n",
        "            im = fns[j](im)\n",
        "            if im.shape[0]<40:\n",
        "                im = pad_one(im)\n",
        "            if im.shape[0]>40:\n",
        "                im = rcrop_one(im)\n",
        "        imgs[i] = im\n",
        "    \n",
        "    return imgs\n",
        "\n",
        "\n",
        "# 19 - 93.6\n",
        "# 20 - 93.9"
      ],
      "execution_count": 13,
      "outputs": [
        {
          "output_type": "stream",
          "text": [
            "4\n"
          ],
          "name": "stdout"
        }
      ]
    },
    {
      "cell_type": "code",
      "metadata": {
        "scrolled": false,
        "id": "0-6N8XqDEX6Y",
        "colab_type": "code",
        "outputId": "1da4974f-c8b4-489d-f4dd-50b61ca03b81",
        "colab": {
          "base_uri": "https://localhost:8080/",
          "height": 668
        }
      },
      "source": [
        "# exampleId = np.random.randint(0,len_train)\n",
        "example = x_train[exampleId]\n",
        "\n",
        "\n",
        "plt.figure(figsize=(2,2))\n",
        "plt.title(classes[y_train[exampleId]])\n",
        "ex = (example - np.min(example))/(np.max(example)-np.min(example))\n",
        "plt.imshow(ex)\n",
        "plt.show()\n",
        "\n",
        "\n",
        "example = constrained_augs(np.array([example]),10)\n",
        "\n",
        "\n",
        "plt.figure(figsize=(2,2))\n",
        "plt.title(classes[y_train[exampleId]])\n",
        "ex = example[0]\n",
        "ex = (ex - np.min(ex))/(np.max(ex)-np.min(ex))\n",
        "plt.imshow(ex)\n",
        "plt.show()\n",
        "\n",
        "ts = tf.data.Dataset.from_tensor_slices((example, np.array([y_train[exampleId]]))).map(data_aug, num_parallel_calls=tf.data.experimental.AUTOTUNE).prefetch(1)\n",
        "x,y = next(ts.make_one_shot_iterator())\n",
        "x,y = x.numpy(),y.numpy()\n",
        "example=x\n",
        "print(np.max(example),np.min(example))\n",
        "ex = (example - np.min(example))/(np.max(example)-np.min(example))\n",
        "plt.figure(figsize=(2,2))\n",
        "plt.title(classes[y_train[exampleId]])\n",
        "plt.imshow(ex)\n",
        "plt.show()"
      ],
      "execution_count": 14,
      "outputs": [
        {
          "output_type": "execute_result",
          "data": {
            "text/plain": [
              "<Figure size 144x144 with 0 Axes>"
            ]
          },
          "metadata": {
            "tags": []
          },
          "execution_count": 14
        },
        {
          "output_type": "execute_result",
          "data": {
            "text/plain": [
              "Text(0.5, 1.0, 'truck')"
            ]
          },
          "metadata": {
            "tags": []
          },
          "execution_count": 14
        },
        {
          "output_type": "execute_result",
          "data": {
            "text/plain": [
              "<matplotlib.image.AxesImage at 0x7f950e24cba8>"
            ]
          },
          "metadata": {
            "tags": []
          },
          "execution_count": 14
        },
        {
          "output_type": "display_data",
          "data": {
            "image/png": "[encoded data removed]",
            "text/plain": [
              "<Figure size 144x144 with 1 Axes>"
            ]
          },
          "metadata": {
            "tags": [],
            "image/png": {
              "width": 142,
              "height": 155
            }
          }
        },
        {
          "output_type": "execute_result",
          "data": {
            "text/plain": [
              "<Figure size 144x144 with 0 Axes>"
            ]
          },
          "metadata": {
            "tags": []
          },
          "execution_count": 14
        },
        {
          "output_type": "execute_result",
          "data": {
            "text/plain": [
              "Text(0.5, 1.0, 'truck')"
            ]
          },
          "metadata": {
            "tags": []
          },
          "execution_count": 14
        },
        {
          "output_type": "execute_result",
          "data": {
            "text/plain": [
              "<matplotlib.image.AxesImage at 0x7f950e1a4278>"
            ]
          },
          "metadata": {
            "tags": []
          },
          "execution_count": 14
        },
        {
          "output_type": "display_data",
          "data": {
            "image/png": "[encoded data removed]",
            "text/plain": [
              "<Figure size 144x144 with 1 Axes>"
            ]
          },
          "metadata": {
            "tags": [],
            "image/png": {
              "width": 142,
              "height": 155
            }
          }
        },
        {
          "output_type": "stream",
          "text": [
            "WARNING:tensorflow:From /usr/local/lib/python3.6/dist-packages/tensorflow_core/python/autograph/converters/directives.py:119: The name tf.random_crop is deprecated. Please use tf.image.random_crop instead.\n",
            "\n",
            "WARNING:tensorflow:From <ipython-input-14-d7929676b962>:22: DatasetV1.make_one_shot_iterator (from tensorflow.python.data.ops.dataset_ops) is deprecated and will be removed in a future version.\n",
            "Instructions for updating:\n",
            "Use `for ... in dataset:` to iterate over a dataset. If using `tf.estimator`, return the `Dataset` object directly from your input function. As a last resort, you can use `tf.compat.v1.data.make_one_shot_iterator(dataset)`.\n",
            "1.9475566 -1.397924\n"
          ],
          "name": "stdout"
        },
        {
          "output_type": "execute_result",
          "data": {
            "text/plain": [
              "<Figure size 144x144 with 0 Axes>"
            ]
          },
          "metadata": {
            "tags": []
          },
          "execution_count": 14
        },
        {
          "output_type": "execute_result",
          "data": {
            "text/plain": [
              "Text(0.5, 1.0, 'truck')"
            ]
          },
          "metadata": {
            "tags": []
          },
          "execution_count": 14
        },
        {
          "output_type": "execute_result",
          "data": {
            "text/plain": [
              "<matplotlib.image.AxesImage at 0x7f950e0a2208>"
            ]
          },
          "metadata": {
            "tags": []
          },
          "execution_count": 14
        },
        {
          "output_type": "display_data",
          "data": {
            "image/png": "[encoded data removed]",
            "text/plain": [
              "<Figure size 144x144 with 1 Axes>"
            ]
          },
          "metadata": {
            "tags": [],
            "image/png": {
              "width": 142,
              "height": 155
            }
          }
        }
      ]
    },
    {
      "cell_type": "code",
      "metadata": {
        "id": "CEDOyC3JEX6h",
        "colab_type": "code",
        "outputId": "b4aaaef5-ac69-483c-e5c6-5378b18c0c43",
        "colab": {
          "base_uri": "https://localhost:8080/",
          "height": 276
        }
      },
      "source": [
        "print(gc.collect())\n",
        "t1 = time.time()\n",
        "train_data = {}\n",
        "for epoch in range(EPOCHS):\n",
        "    \n",
        "    if epoch%2==1:\n",
        "        print(\"Epoch = \",epoch,\" Time = \",(time.time()-t1))\n",
        "    xt = constrained_augs(x_train, epoch)\n",
        "    train_set = tf.data.Dataset.from_tensor_slices((xt, y_train)).map(data_aug, num_parallel_calls=tf.data.experimental.AUTOTUNE).shuffle(len_train).batch(len_train).prefetch(len_train)\n",
        "    i = 0\n",
        "    for x,y in train_set:\n",
        "        assert x.numpy().shape[0]==len_train\n",
        "        train_set = (x.numpy(),y.numpy())\n",
        "        i = i+1\n",
        "    assert i==1\n",
        "    train_data[epoch] = train_set\n",
        "t2 = time.time()\n",
        "\"%.1f\" %(t2-t1)\n"
      ],
      "execution_count": 15,
      "outputs": [
        {
          "output_type": "stream",
          "text": [
            "4082\n",
            "Epoch =  1  Time =  14.096076250076294\n",
            "Epoch =  3  Time =  42.32674956321716\n",
            "Epoch =  5  Time =  70.65695714950562\n",
            "Epoch =  7  Time =  98.83464741706848\n",
            "Epoch =  9  Time =  126.70173645019531\n",
            "Epoch =  11  Time =  155.18763971328735\n",
            "Epoch =  13  Time =  183.5972969532013\n",
            "Epoch =  15  Time =  211.9202103614807\n",
            "Epoch =  17  Time =  240.15589427947998\n",
            "Epoch =  19  Time =  268.4171497821808\n",
            "Epoch =  21  Time =  296.8147909641266\n",
            "Epoch =  23  Time =  324.7967252731323\n"
          ],
          "name": "stdout"
        },
        {
          "output_type": "execute_result",
          "data": {
            "text/plain": [
              "'339.7'"
            ]
          },
          "metadata": {
            "tags": []
          },
          "execution_count": 15
        }
      ]
    },
    {
      "cell_type": "code",
      "metadata": {
        "colab_type": "code",
        "id": "Eeqp9zgtQjQN",
        "outputId": "43b5cece-84fc-4a0e-c940-a8038df88364",
        "colab": {
          "base_uri": "https://localhost:8080/",
          "height": 746
        }
      },
      "source": [
        "print(gc.collect())\n",
        "t = time.time()\n",
        "t_last = time.time()\n",
        "train_accs = []\n",
        "test_accs = []\n",
        "test_set = tf.data.Dataset.from_tensor_slices((x_test, y_test)).batch(BATCH_SIZE).prefetch(1)\n",
        "\n",
        "for epoch in range(EPOCHS):\n",
        "    train_loss = test_loss = train_acc = test_acc = 0.0\n",
        "    train_set = train_data[epoch]\n",
        "    train_set = tf.data.Dataset.from_tensor_slices(train_set).batch(BATCH_SIZE).prefetch(1)\n",
        "    tf.keras.backend.set_learning_phase(1)\n",
        "    for (x, y) in train_set:\n",
        "        with tf.GradientTape() as tape:\n",
        "            loss, correct = model(x, y)\n",
        "\n",
        "        var = model.trainable_variables\n",
        "        grads = tape.gradient(loss, var)\n",
        "        for g, v in zip(grads, var):\n",
        "            g += v * (WEIGHT_DECAY/(epoch+1)) * BATCH_SIZE\n",
        "        opt.apply_gradients(zip(grads, var), global_step=global_step)\n",
        "\n",
        "        train_loss += loss.numpy()\n",
        "        train_acc += correct.numpy()\n",
        "\n",
        "    tf.keras.backend.set_learning_phase(0)\n",
        "    for (x, y) in test_set:\n",
        "        loss, correct = model(x, y)\n",
        "        test_loss += loss.numpy()\n",
        "        test_acc += correct.numpy()\n",
        "\n",
        "    t2 = time.time()\n",
        "    epoch_time = t2 - t_last\n",
        "    t_last = t2\n",
        "    train_accs.append(train_acc / len_train)\n",
        "    test_accs.append(test_acc / len_test)\n",
        "    print(\"epoch = %s\"%(epoch+1),'lr: %.4f' % (lr_schedule(epoch+1)), '| train loss: %.4f' %(train_loss / len_train), 'train acc: %.3f' % (train_acc / len_train), 'val loss: %.4f' % (test_loss / len_test), 'val acc: %.3f' %(test_acc / len_test),\"epoch time: %.2f\"%(epoch_time), 'time: %.2f'%(t2 - t))\n",
        "    \n",
        "    \n",
        "plt.figure()\n",
        "plt.plot(train_accs[3:])\n",
        "plt.plot(test_accs[3:])\n",
        "plt.show()\n",
        "\n",
        "# \n",
        "    \n",
        "# 0.936\n",
        "\n",
        "# epoch = 3 lr: 0.2400 | train loss: 0.6618 train acc: 0.769 val loss: 0.8386 val acc: 0.720"
      ],
      "execution_count": 16,
      "outputs": [
        {
          "output_type": "stream",
          "text": [
            "0\n",
            "epoch = 1 lr: 0.0800 | train loss: 1.7256 train acc: 0.374 val loss: 1.2881 val acc: 0.538 epoch time: 25.38 time: 25.38\n",
            "epoch = 2 lr: 0.1600 | train loss: 1.0931 train acc: 0.611 val loss: 1.0987 val acc: 0.645 epoch time: 17.68 time: 43.07\n",
            "epoch = 3 lr: 0.2400 | train loss: 0.8852 train acc: 0.690 val loss: 1.1662 val acc: 0.646 epoch time: 17.57 time: 60.64\n",
            "epoch = 4 lr: 0.3200 | train loss: 0.7985 train acc: 0.726 val loss: 0.6918 val acc: 0.763 epoch time: 17.48 time: 78.12\n",
            "epoch = 5 lr: 0.4000 | train loss: 0.7220 train acc: 0.749 val loss: 0.7971 val acc: 0.738 epoch time: 17.51 time: 95.63\n",
            "epoch = 6 lr: 0.3806 | train loss: 0.6320 train acc: 0.782 val loss: 0.7321 val acc: 0.769 epoch time: 17.51 time: 113.14\n",
            "epoch = 7 lr: 0.3613 | train loss: 0.5555 train acc: 0.808 val loss: 0.5270 val acc: 0.828 epoch time: 17.62 time: 130.76\n",
            "epoch = 8 lr: 0.3419 | train loss: 0.4991 train acc: 0.825 val loss: 0.5158 val acc: 0.828 epoch time: 17.59 time: 148.35\n",
            "epoch = 9 lr: 0.3225 | train loss: 0.4613 train acc: 0.839 val loss: 0.5010 val acc: 0.835 epoch time: 17.59 time: 165.94\n",
            "epoch = 10 lr: 0.3031 | train loss: 0.4283 train acc: 0.854 val loss: 0.5015 val acc: 0.838 epoch time: 17.40 time: 183.34\n",
            "epoch = 11 lr: 0.2838 | train loss: 0.4002 train acc: 0.861 val loss: 0.4315 val acc: 0.855 epoch time: 17.52 time: 200.86\n",
            "epoch = 12 lr: 0.2644 | train loss: 0.3706 train acc: 0.872 val loss: 0.4182 val acc: 0.861 epoch time: 17.53 time: 218.39\n",
            "epoch = 13 lr: 0.2450 | train loss: 0.3538 train acc: 0.876 val loss: 0.3603 val acc: 0.878 epoch time: 17.46 time: 235.85\n",
            "epoch = 14 lr: 0.2256 | train loss: 0.3296 train acc: 0.885 val loss: 0.3992 val acc: 0.871 epoch time: 17.64 time: 253.50\n",
            "epoch = 15 lr: 0.2062 | train loss: 0.3158 train acc: 0.892 val loss: 0.3700 val acc: 0.878 epoch time: 17.52 time: 271.02\n",
            "epoch = 16 lr: 0.1869 | train loss: 0.2933 train acc: 0.899 val loss: 0.4048 val acc: 0.872 epoch time: 17.37 time: 288.39\n",
            "epoch = 17 lr: 0.1675 | train loss: 0.2768 train acc: 0.905 val loss: 0.3286 val acc: 0.890 epoch time: 17.78 time: 306.17\n",
            "epoch = 18 lr: 0.1481 | train loss: 0.2642 train acc: 0.908 val loss: 0.3524 val acc: 0.885 epoch time: 17.69 time: 323.86\n",
            "epoch = 19 lr: 0.1287 | train loss: 0.2460 train acc: 0.916 val loss: 0.3171 val acc: 0.899 epoch time: 17.67 time: 341.53\n",
            "epoch = 20 lr: 0.1094 | train loss: 0.2343 train acc: 0.920 val loss: 0.2931 val acc: 0.903 epoch time: 17.67 time: 359.19\n",
            "epoch = 21 lr: 0.0900 | train loss: 0.2229 train acc: 0.923 val loss: 0.3018 val acc: 0.900 epoch time: 17.51 time: 376.70\n",
            "epoch = 22 lr: 0.0600 | train loss: 0.2070 train acc: 0.930 val loss: 0.2821 val acc: 0.911 epoch time: 17.59 time: 394.30\n",
            "epoch = 23 lr: 0.0300 | train loss: 0.1938 train acc: 0.935 val loss: 0.2760 val acc: 0.912 epoch time: 17.49 time: 411.78\n",
            "epoch = 24 lr: 0.0010 | train loss: 0.1834 train acc: 0.939 val loss: 0.2701 val acc: 0.916 epoch time: 17.43 time: 429.21\n"
          ],
          "name": "stdout"
        },
        {
          "output_type": "execute_result",
          "data": {
            "text/plain": [
              "<Figure size 432x288 with 0 Axes>"
            ]
          },
          "metadata": {
            "tags": []
          },
          "execution_count": 16
        },
        {
          "output_type": "execute_result",
          "data": {
            "text/plain": [
              "[<matplotlib.lines.Line2D at 0x7f959056b518>]"
            ]
          },
          "metadata": {
            "tags": []
          },
          "execution_count": 16
        },
        {
          "output_type": "execute_result",
          "data": {
            "text/plain": [
              "[<matplotlib.lines.Line2D at 0x7f9121268550>]"
            ]
          },
          "metadata": {
            "tags": []
          },
          "execution_count": 16
        },
        {
          "output_type": "display_data",
          "data": {
            "image/png": "[encoded data removed]",
            "text/plain": [
              "<Figure size 432x288 with 1 Axes>"
            ]
          },
          "metadata": {
            "tags": [],
            "image/png": {
              "width": 378,
              "height": 248
            }
          }
        }
      ]
    },
    {
      "cell_type": "code",
      "metadata": {
        "id": "dEQwjR3bEX60",
        "colab_type": "code",
        "outputId": "767b5af9-87a5-43da-d5b2-97a71815e93a",
        "colab": {
          "base_uri": "https://localhost:8080/",
          "height": 35
        }
      },
      "source": [
        "print(\"epoch = %s\"%(epoch+1),'lr: %.4f' % (lr_schedule(epoch+1)), '| train loss: %.4f' %(train_loss / len_train), 'train acc: %.3f' % (train_acc / len_train), 'val loss: %.4f' % (test_loss / len_test), 'val acc: %.3f' %(test_acc / len_test),\"epoch time: %.2f\"%(epoch_time), 'time: %.2f'%(t2 - t))\n"
      ],
      "execution_count": 17,
      "outputs": [
        {
          "output_type": "stream",
          "text": [
            "epoch = 24 lr: 0.0010 | train loss: 0.1834 train acc: 0.939 val loss: 0.2701 val acc: 0.916 epoch time: 17.43 time: 429.21\n"
          ],
          "name": "stdout"
        }
      ]
    },
    {
      "cell_type": "code",
      "metadata": {
        "id": "RTp6-CpOEX69",
        "colab_type": "code",
        "colab": {}
      },
      "source": [
        "# each image should have only 2-3 augments\n",
        "# when using augmentations use a larger batch size\n",
        "# when using augmentations use both augmented and non augmented image in same batch.\n",
        "# or use a milder augmentation strategy."
      ],
      "execution_count": 0,
      "outputs": []
    }
  ]
}