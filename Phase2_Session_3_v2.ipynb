{
  "nbformat": 4,
  "nbformat_minor": 0,
  "metadata": {
    "colab": {
      "name": "Phase2_Session 3_v2.ipynb",
      "provenance": [],
      "collapsed_sections": [],
      "authorship_tag": "ABX9TyM6bfTBZrpMV92bmMBJRlgU",
      "include_colab_link": true
    },
    "kernelspec": {
      "name": "python3",
      "display_name": "Python 3"
    },
    "accelerator": "GPU"
  },
  "cells": [
    {
      "cell_type": "markdown",
      "metadata": {
        "id": "view-in-github",
        "colab_type": "text"
      },
      "source": [
        "<a href=\"https://colab.research.google.com/github/nandwanatarun/EVA-DeepLearning/blob/Phase2_Session-3/Phase2_Session_3_v2.ipynb\" target=\"_parent\"><img src=\"https://colab.research.google.com/assets/colab-badge.svg\" alt=\"Open In Colab\"/></a>"
      ]
    },
    {
      "cell_type": "markdown",
      "metadata": {
        "id": "kU8fJ-pMr7UG"
      },
      "source": [
        "\n",
        "Imports"
      ]
    },
    {
      "cell_type": "code",
      "metadata": {
        "id": "m6E_q9NprzpO"
      },
      "source": [
        "import numpy as np\n",
        "%matplotlib inline\n",
        "import numpy as np\n",
        "import matplotlib.pyplot as plt\n",
        "from IPython import display\n",
        "plt.style.use('seaborn-white')"
      ],
      "execution_count": 1,
      "outputs": []
    },
    {
      "cell_type": "markdown",
      "metadata": {
        "id": "42Ks1-lAr_16"
      },
      "source": [
        "\n",
        "Read and process data.\n",
        "\n",
        "Download the file from this URL: https://drive.google.com/file/d/1UWWIi-sz9g0x3LFvkIZjvK1r2ZaCqgGS/view?usp=sharing\n"
      ]
    },
    {
      "cell_type": "code",
      "metadata": {
        "id": "Nlwq9bDFsBge",
        "colab": {
          "resources": {
            "http://localhost:8080/nbextensions/google.colab/files.js": {
              "data": "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",
              "ok": true,
              "headers": [
                [
                  "content-type",
                  "application/javascript"
                ]
              ],
              "status": 200,
              "status_text": ""
            }
          },
          "base_uri": "https://localhost:8080/",
          "height": 90
        },
        "outputId": "ff574e50-ebe3-44e4-8d97-e04507a5b576"
      },
      "source": [
        "#import urllib\n",
        "#from urllib.request import urlopen\n",
        "#url = \"https://drive.google.com/file/d/1FdK3folcdEk-LGSWpuECTyA3fgCxlp0V/view?usp=sharing\"\n",
        "#data = urllib.request.urlopen(url)\n",
        "#data.read()\n",
        "\n",
        "from google.colab import files\n",
        "!pwd\n",
        "uploaded = files.upload()\n",
        "data = open('text1.txt', 'r').read()"
      ],
      "execution_count": 5,
      "outputs": [
        {
          "output_type": "stream",
          "text": [
            "/content\n"
          ],
          "name": "stdout"
        },
        {
          "output_type": "display_data",
          "data": {
            "text/html": [
              "\n",
              "     <input type=\"file\" id=\"files-d83bf49c-7fec-4f58-8c2b-9163b1082b48\" name=\"files[]\" multiple disabled\n",
              "        style=\"border:none\" />\n",
              "     <output id=\"result-d83bf49c-7fec-4f58-8c2b-9163b1082b48\">\n",
              "      Upload widget is only available when the cell has been executed in the\n",
              "      current browser session. Please rerun this cell to enable.\n",
              "      </output>\n",
              "      <script src=\"/nbextensions/google.colab/files.js\"></script> "
            ],
            "text/plain": [
              "<IPython.core.display.HTML object>"
            ]
          },
          "metadata": {
            "tags": []
          }
        },
        {
          "output_type": "stream",
          "text": [
            "Saving text1.txt to text1.txt\n"
          ],
          "name": "stdout"
        }
      ]
    },
    {
      "cell_type": "code",
      "metadata": {
        "id": "UiaXupHGwgxo",
        "colab": {
          "base_uri": "https://localhost:8080/"
        },
        "outputId": "66ba2638-55db-431d-d5fc-eed635bab962"
      },
      "source": [
        "!ls"
      ],
      "execution_count": 6,
      "outputs": [
        {
          "output_type": "stream",
          "text": [
            " sample_data  'text (1).txt'   text1.txt\n"
          ],
          "name": "stdout"
        }
      ]
    },
    {
      "cell_type": "markdown",
      "metadata": {
        "id": "CCRKuU-PsCuQ"
      },
      "source": [
        "Process data and calculate indices"
      ]
    },
    {
      "cell_type": "code",
      "metadata": {
        "id": "tAzn_Vl5sEMB",
        "colab": {
          "base_uri": "https://localhost:8080/"
        },
        "outputId": "6d4ce8b4-ab48-4de8-9e28-614f91018f61"
      },
      "source": [
        "chars = list(set(data))\n",
        "data_size, X_size = len(data), len(chars)\n",
        "print(\"Corona Virus article has %d characters, %d unique characters\" %(data_size, X_size))\n",
        "char_to_idx = {ch:i for i,ch in enumerate(chars)}\n",
        "idx_to_char = {i:ch for i,ch in enumerate(chars)}"
      ],
      "execution_count": 7,
      "outputs": [
        {
          "output_type": "stream",
          "text": [
            "Corona Virus article has 10223 characters, 75 unique characters\n"
          ],
          "name": "stdout"
        }
      ]
    },
    {
      "cell_type": "markdown",
      "metadata": {
        "id": "WF_XgmE_sFsw"
      },
      "source": [
        "Constants and Hyperparameters"
      ]
    },
    {
      "cell_type": "code",
      "metadata": {
        "id": "QRIxN5rvsHT4"
      },
      "source": [
        "Hidden_Layer_size = 10 #size of the hidden layer\n",
        "Time_steps = 10 # Number of time steps (length of the sequence) used for training\n",
        "learning_rate = 1e-1 # Learning Rate\n",
        "weight_sd = 0.1 #Standard deviation of weights for initialization\n",
        "z_size = Hidden_Layer_size + X_size #Size of concatenation(H, X) vector"
      ],
      "execution_count": 8,
      "outputs": []
    },
    {
      "cell_type": "markdown",
      "metadata": {
        "id": "T_YXosJisIw-"
      },
      "source": [
        "Activation Functions and Derivatives"
      ]
    },
    {
      "cell_type": "code",
      "metadata": {
        "id": "1kt4l-DJsKct",
        "colab": {
          "base_uri": "https://localhost:8080/"
        },
        "outputId": "6ce34299-a6c5-4263-b984-17e2354e8de9"
      },
      "source": [
        "def sigmoid(x): # sigmoid function\n",
        "  return x # write your code here\n",
        "\n",
        "def dsigmoid(y): # derivative of sigmoid function\n",
        "  return # write your code here\n",
        "\n",
        "def tanh(x): # tanh function\n",
        "  return # write your code here\n",
        "\n",
        "def dtanh(y): # derivative of tanh\n",
        "  return # write your code here\n",
        "print(sigmoid(0))"
      ],
      "execution_count": 9,
      "outputs": [
        {
          "output_type": "stream",
          "text": [
            "0\n"
          ],
          "name": "stdout"
        }
      ]
    },
    {
      "cell_type": "markdown",
      "metadata": {
        "id": "mnyc3SccsNeS"
      },
      "source": [
        "\n",
        "Quiz Question 1\n",
        "\n",
        "What is the value of sigmoid(0) calculated from your code? (Answer up to 1 decimal point, e.g. 4.2 and NOT 4.29999999, no rounding off).\n",
        "\n",
        "Quiz Question 2\n",
        "\n",
        "What is the value of dsigmoid(sigmoid(0)) calculated from your code?? (Answer up to 2 decimal point, e.g. 4.29 and NOT 4.29999999, no rounding off).\n",
        "\n",
        "Quiz Question 3\n",
        "\n",
        "What is the value of tanh(dsigmoid(sigmoid(0))) calculated from your code?? (Answer up to 5 decimal point, e.g. 4.29999 and NOT 4.29999999, no rounding off).\n",
        "\n",
        "Quiz Question 4\n",
        "\n",
        "What is the value of dtanh(tanh(dsigmoid(sigmoid(0)))) calculated from your code?? (Answer up to 5 decimal point, e.g. 4.29999 and NOT 4.29999999, no rounding off).\n",
        "Parameters"
      ]
    },
    {
      "cell_type": "code",
      "metadata": {
        "id": "rIBy0JTKsPMS"
      },
      "source": [
        "class Param:\n",
        "    def __init__(self, name, value):\n",
        "      self.name = name\n",
        "      self.v = value # parameter value\n",
        "      self.d = np.zeros_like(value) # derivative\n",
        "      self.m = np.zeros_like(value) # momentum for Adagrad\n",
        "      print(self.v)\n",
        "      size_a = v # write your code here\n",
        "      size_b = d # write your code here\n",
        "      size_c = m # write your code here"
      ],
      "execution_count": 43,
      "outputs": []
    },
    {
      "cell_type": "markdown",
      "metadata": {
        "id": "rR-23bTCsQsA"
      },
      "source": [
        "\n",
        "\n",
        "We use random weights with normal distribution (0, weight_sd) for tanh activation function and (0.5, weight_sd) for sigmoid activation function.\n",
        "\n",
        "Biases are initialized to zeros.\n",
        "LSTM\n",
        "\n",
        "You are making this network, please note f, i, c and o (also \"v\") in the image below: "
      ]
    },
    {
      "cell_type": "markdown",
      "metadata": {
        "id": "wWiEPe8MBJDJ"
      },
      "source": [
        "![LSTM.PNG](data:image/png;base64,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)"
      ]
    },
    {
      "cell_type": "markdown",
      "metadata": {
        "id": "_4jpT7D9sep9"
      },
      "source": [
        "Please note that we are concatenating the old_hidden_vector and new_input.\n",
        "Quiz Question 4\n",
        "\n",
        "In the class definition below, what should be size_a, size_b, and size_c? ONLY use the variables defined above.\n"
      ]
    },
    {
      "cell_type": "code",
      "metadata": {
        "id": "LiN-h2fVsYXN"
      },
      "source": [
        "class Parameters:\n",
        "  def __init__(self):\n",
        "    self.W_f = Param('W_f', np.random.randn(size_a, size_b) * weight_sd + 0.5)\n",
        "    self.b_f = Param('b_f', np.zeros((size_a, 1)))\n",
        "\n",
        "    self.W_i = Param('W_i', np.random.randn(size_a, size_b) * weight_sd + 0.5)\n",
        "    self.b_i = Param('b_i', np.zeros((size_a, 1)))\n",
        "\n",
        "    self.W_C = Param('W_C', np.random.randn(size_a, size_b) * weight_sd)\n",
        "    self.b_C = Param('b_C', np.zeros((size_a, 1)))\n",
        "\n",
        "    self.W_o = Param('W_o', np.random.randn(size_a, size_b) * weight_sd + 0.5)\n",
        "    self.b_o = Param('b_o', np.zeros((size_a, 1)))\n",
        "\n",
        "    #For final layer to predict the next character\n",
        "    self.W_v = Param('W_v', np.random.randn(X_size, size_a) * weight_sd)\n",
        "    self.b_v = Param('b_v', np.zeros((size_c, 1)))\n",
        "          \n",
        "    def all(self):\n",
        "      return [self.W_f, self.W_i, self.W_C, self.W_o, self.W_v,\n",
        "        self.b_f, self.b_i, self.b_C, self.b_o, self.b_v]\n",
        "        \n",
        "parameters = Parameters()"
      ],
      "execution_count": null,
      "outputs": []
    },
    {
      "cell_type": "markdown",
      "metadata": {
        "id": "snytu85Psj4h"
      },
      "source": [
        "\n",
        "\n",
        "Look at these operations which we'll be writing:\n",
        "\n",
        "Concatenation of h and x:\n",
        "\n",
        "$z\\:=\\:\\left[h_{t-1},\\:x\\right]$\n",
        "\n",
        "$f_t=\\sigma\\left(W_f\\cdot z\\:+\\:b_f\\:\\right)$\n",
        "\n",
        "$i_i=\\sigma\\left(W_i\\cdot z\\:+\\:b_i\\right)$\n",
        "\n",
        "$\\overline{C_t}=\\tanh\\left(W_C\\cdot z\\:+\\:b_C\\right)$\n",
        "\n",
        "$C_t=f_t\\ast C_{t-1}+i_t\\ast \\overline{C}_t$\n",
        "\n",
        "$o_t=\\sigma\\left(W_o\\cdot z\\:+\\:b_i\\right)$\n",
        "\n",
        "$h_t=o_t\\ast\\tanh\\left(C_t\\right)$\n",
        "\n",
        "Logits:\n",
        "\n",
        "$v_t=W_v\\cdot h_t+b_v$\n",
        "\n",
        "Softmax:\n",
        "\n",
        "$\\hat{y}=softmax\\left(v_t\\right)$\n"
      ]
    },
    {
      "cell_type": "code",
      "metadata": {
        "id": "Pwczw_Pesixq"
      },
      "source": [
        "def forward(x, h_prev, C_prev, p = parameters):\n",
        "    assert x.shape == (X_size, 1)\n",
        "    assert h_prev.shape == (Hidden_Layer_size, 1)\n",
        "    assert C_prev.shape == (Hidden_Layer_size, 1)\n",
        "    \n",
        "    z = np.row_stack((h_prev, x))\n",
        "    f = # write your code here\n",
        "    i = # write your code here\n",
        "    C_bar = # write your code here\n",
        "\n",
        "    C = # write your code here\n",
        "    o = # write your code here\n",
        "    h = # write your code here\n",
        "\n",
        "    v = # write your code here\n",
        "    y = np.exp(v) / np.sum(np.exp(v)) #softmax\n",
        "\n",
        "    return z, f, i, C_bar, C, o, h, v, y"
      ],
      "execution_count": null,
      "outputs": []
    },
    {
      "cell_type": "markdown",
      "metadata": {
        "id": "P9RgDo1VsoMH"
      },
      "source": [
        "\n",
        "\n",
        "You must finish the function above before you can attempt the questions below.\n",
        "Quiz Question 5\n",
        "\n",
        "What is the output of 'print(len(forward(np.zeros((X_size, 1)), np.zeros((Hidden_Layer_size, 1)), np.zeros((Hidden_Layer_size, 1)), parameters)))'?\n",
        "Quiz Question 6.\n",
        "\n",
        "Assuming you have fixed the forward function, run this command: z, f, i, C_bar, C, o, h, v, y = forward(np.zeros((X_size, 1)), np.zeros((Hidden_Layer_size, 1)), np.zeros((Hidden_Layer_size, 1)))\n",
        "\n",
        "Now, find these values:\n",
        "\n",
        "    print(z.shape)\n",
        "    print(np.sum(z))\n",
        "    print(np.sum(f))\n",
        "\n",
        "Copy and paste exact values you get in the logs into the quiz.\n"
      ]
    },
    {
      "cell_type": "code",
      "metadata": {
        "id": "3VvWMbZbspsz"
      },
      "source": [
        "z, f, i, C_bar, C, o, h, v, y = forward(np.zeros((X_size, 1)), np.zeros((Hidden_Layer_size, 1)), np.zeros((Hidden_Layer_size, 1)))"
      ],
      "execution_count": null,
      "outputs": []
    },
    {
      "cell_type": "markdown",
      "metadata": {
        "id": "Il5JZhGSsrCs"
      },
      "source": [
        "\n",
        "Backpropagation\n",
        "\n",
        "Here we are defining the backpropagation. It's too complicated, here is the whole code. (Please note that this would work only if your earlier code is perfect).\n"
      ]
    },
    {
      "cell_type": "code",
      "metadata": {
        "id": "JBs-E3WhstHW"
      },
      "source": [
        "def backward(target, dh_next, dC_next, C_prev,\n",
        "             z, f, i, C_bar, C, o, h, v, y,\n",
        "             p = parameters):\n",
        "    \n",
        "    assert z.shape == (X_size + Hidden_Layer_size, 1)\n",
        "    assert v.shape == (X_size, 1)\n",
        "    assert y.shape == (X_size, 1)\n",
        "    \n",
        "    for param in [dh_next, dC_next, C_prev, f, i, C_bar, C, o, h]:\n",
        "        assert param.shape == (Hidden_Layer_size, 1)\n",
        "        \n",
        "    dv = np.copy(y)\n",
        "    dv[target] -= 1\n",
        "\n",
        "    p.W_v.d += np.dot(dv, h.T)\n",
        "    p.b_v.d += dv\n",
        "\n",
        "    dh = np.dot(p.W_v.v.T, dv)        \n",
        "    dh += dh_next\n",
        "    do = dh * tanh(C)\n",
        "    do = dsigmoid(o) * do\n",
        "    p.W_o.d += np.dot(do, z.T)\n",
        "    p.b_o.d += do\n",
        "\n",
        "    dC = np.copy(dC_next)\n",
        "    dC += dh * o * dtanh(tanh(C))\n",
        "    dC_bar = dC * i\n",
        "    dC_bar = dtanh(C_bar) * dC_bar\n",
        "    p.W_C.d += np.dot(dC_bar, z.T)\n",
        "    p.b_C.d += dC_bar\n",
        "\n",
        "    di = dC * C_bar\n",
        "    di = dsigmoid(i) * di\n",
        "    p.W_i.d += np.dot(di, z.T)\n",
        "    p.b_i.d += di\n",
        "\n",
        "    df = dC * C_prev\n",
        "    df = dsigmoid(f) * df\n",
        "    p.W_f.d += np.dot(df, z.T)\n",
        "    p.b_f.d += df\n",
        "\n",
        "    dz = (np.dot(p.W_f.v.T, df)\n",
        "         + np.dot(p.W_i.v.T, di)\n",
        "         + np.dot(p.W_C.v.T, dC_bar)\n",
        "         + np.dot(p.W_o.v.T, do))\n",
        "    dh_prev = dz[:Hidden_Layer_size, :]\n",
        "    dC_prev = f * dC\n",
        "    \n",
        "    return dh_prev, dC_prev"
      ],
      "execution_count": null,
      "outputs": []
    },
    {
      "cell_type": "markdown",
      "metadata": {
        "id": "IqMBwMMusuLt"
      },
      "source": [
        "\n",
        "Forward and Backward Combined Pass\n",
        "\n",
        "Let's first clear the gradients before each backward pass\n"
      ]
    },
    {
      "cell_type": "code",
      "metadata": {
        "id": "CQ6Qll1tsvNB"
      },
      "source": [
        "def clear_gradients(params = parameters):\n",
        "    for p in params.all():\n",
        "        p.d.fill(0)"
      ],
      "execution_count": null,
      "outputs": []
    },
    {
      "cell_type": "markdown",
      "metadata": {
        "id": "gsIcvNlFswhU"
      },
      "source": [
        "\n",
        "\n",
        "Clip gradients to mitigate exploding gradients\n"
      ]
    },
    {
      "cell_type": "code",
      "metadata": {
        "id": "XqvB-Qz9syCQ"
      },
      "source": [
        "def clip_gradients(params = parameters):\n",
        "    for p in params.all():\n",
        "        np.clip(p.d, -1, 1, out=p.d)"
      ],
      "execution_count": null,
      "outputs": []
    },
    {
      "cell_type": "markdown",
      "metadata": {
        "id": "pZyCD1IOsjJF"
      },
      "source": [
        "\n",
        "\n",
        "Calculate and store the values in forward pass. Accumulate gradients in backward pass and clip gradients to avoid exploding gradients.\n",
        "\n",
        "input, target are list of integers, with character indexes. h_prev is the array of initial h at h−1 (size H x 1) C_prev is the array of initial C at C−1 (size H x 1) Returns loss, final hT and CT\n"
      ]
    },
    {
      "cell_type": "code",
      "metadata": {
        "id": "fowo5rR7s2GC"
      },
      "source": [
        "def forward_backward(inputs, targets, h_prev, C_prev):\n",
        "    global paramters\n",
        "    \n",
        "    # To store the values for each time step\n",
        "    x_s, z_s, f_s, i_s,  = {}, {}, {}, {}\n",
        "    C_bar_s, C_s, o_s, h_s = {}, {}, {}, {}\n",
        "    v_s, y_s =  {}, {}\n",
        "    \n",
        "    # Values at t - 1\n",
        "    h_s[-1] = np.copy(h_prev)\n",
        "    C_s[-1] = np.copy(C_prev)\n",
        "    \n",
        "    loss = 0\n",
        "    # Loop through time steps\n",
        "    assert len(inputs) == Time_steps\n",
        "    for t in range(len(inputs)):\n",
        "        x_s[t] = np.zeros((X_size, 1))\n",
        "        x_s[t][inputs[t]] = 1 # Input character\n",
        "        \n",
        "        (z_s[t], f_s[t], i_s[t],\n",
        "        C_bar_s[t], C_s[t], o_s[t], h_s[t],\n",
        "        v_s[t], y_s[t]) = \\\n",
        "            forward(x_s[t], h_s[t - 1], C_s[t - 1]) # Forward pass\n",
        "            \n",
        "        loss += -np.log(y_s[t][targets[t], 0]) # Loss for at t\n",
        "        \n",
        "    clear_gradients()\n",
        "\n",
        "    dh_next = np.zeros_like(h_s[0]) #dh from the next character\n",
        "    dC_next = np.zeros_like(C_s[0]) #dh from the next character\n",
        "\n",
        "    for t in reversed(range(len(inputs))):\n",
        "        # Backward pass\n",
        "        dh_next, dC_next = \\\n",
        "            backward(target = targets[t], dh_next = dh_next,\n",
        "                     dC_next = dC_next, C_prev = C_s[t-1],\n",
        "                     z = z_s[t], f = f_s[t], i = i_s[t], C_bar = C_bar_s[t],\n",
        "                     C = C_s[t], o = o_s[t], h = h_s[t], v = v_s[t],\n",
        "                     y = y_s[t])\n",
        "\n",
        "    clip_gradients()\n",
        "        \n",
        "    return loss, h_s[len(inputs) - 1], C_s[len(inputs) - 1]"
      ],
      "execution_count": null,
      "outputs": []
    },
    {
      "cell_type": "markdown",
      "metadata": {
        "id": "DAdH41Gxs3bS"
      },
      "source": [
        "Sample the next character"
      ]
    },
    {
      "cell_type": "code",
      "metadata": {
        "id": "fov-VtDcs6bY"
      },
      "source": [
        "def sample(h_prev, C_prev, first_char_idx, sentence_length):\n",
        "    x = np.zeros((X_size, 1))\n",
        "    x[first_char_idx] = 1\n",
        "\n",
        "    h = h_prev\n",
        "    C = C_prev\n",
        "\n",
        "    indexes = []\n",
        "    \n",
        "    for t in range(sentence_length):\n",
        "        _, _, _, _, C, _, h, _, p = forward(x, h, C)\n",
        "        idx = np.random.choice(range(X_size), p=p.ravel())\n",
        "        x = np.zeros((X_size, 1))\n",
        "        x[idx] = 1\n",
        "        indexes.append(idx)\n",
        "\n",
        "    return indexes"
      ],
      "execution_count": null,
      "outputs": []
    },
    {
      "cell_type": "markdown",
      "metadata": {
        "id": "SDaFCS_ds5lo"
      },
      "source": [
        "\n",
        "Training (Adagrad)\n",
        "\n",
        "Update the graph and display a sample output\n"
      ]
    },
    {
      "cell_type": "code",
      "metadata": {
        "id": "YB1Lc0SMs9ay"
      },
      "source": [
        "def update_status(inputs, h_prev, C_prev):\n",
        "    #initialized later\n",
        "    global plot_iter, plot_loss\n",
        "    global smooth_loss\n",
        "    \n",
        "    # Get predictions for 200 letters with current model\n",
        "\n",
        "    sample_idx = sample(h_prev, C_prev, inputs[0], 200)\n",
        "    txt = ''.join(idx_to_char[idx] for idx in sample_idx)\n",
        "\n",
        "    # Clear and plot\n",
        "    plt.plot(plot_iter, plot_loss)\n",
        "    display.clear_output(wait=True)\n",
        "    plt.show()\n",
        "\n",
        "    #Print prediction and loss\n",
        "    print(\"----\\n %s \\n----\" % (txt, ))\n",
        "    print(\"iter %d, loss %f\" % (iteration, smooth_loss))"
      ],
      "execution_count": null,
      "outputs": []
    },
    {
      "cell_type": "markdown",
      "metadata": {
        "id": "D_MRW8L7s-ws"
      },
      "source": [
        "Update Parameters\n"
      ]
    },
    {
      "cell_type": "code",
      "metadata": {
        "id": "IpLv3UubtAJQ"
      },
      "source": [
        "def update_paramters(params = parameters):\n",
        "    for p in params.all():\n",
        "        p.m += p.d * p.d # Calculate sum of gradients\n",
        "        #print(learning_rate * dparam)\n",
        "        p.v += -(learning_rate * p.d / np.sqrt(p.m + 1e-8))"
      ],
      "execution_count": null,
      "outputs": []
    },
    {
      "cell_type": "markdown",
      "metadata": {
        "id": "Jz0_jLpGtB3E"
      },
      "source": [
        "To delay the keyboard interrupt to prevent the training from stopping in the middle of an iteration"
      ]
    },
    {
      "cell_type": "code",
      "metadata": {
        "id": "7R0g_ZxBtDK_"
      },
      "source": [
        "# Exponential average of loss\n",
        "# Initialize to a error of a random model\n",
        "smooth_loss = -np.log(1.0 / X_size) * Time_steps\n",
        "\n",
        "iteration, pointer = 0, 0\n",
        "\n",
        "# For the graph\n",
        "plot_iter = np.zeros((0))\n",
        "plot_loss = np.zeros((0))"
      ],
      "execution_count": null,
      "outputs": []
    },
    {
      "cell_type": "markdown",
      "metadata": {
        "id": "_B8671rStEeI"
      },
      "source": [
        "Training Loop"
      ]
    },
    {
      "cell_type": "code",
      "metadata": {
        "id": "c8vTpGYWtGB4"
      },
      "source": [
        "iter = 1000\n",
        "while iter > 0:\n",
        "  # Reset\n",
        "  if pointer + Time_steps >= len(data) or iteration == 0:\n",
        "      g_h_prev = np.zeros((Hidden_Layer_size, 1))\n",
        "      g_C_prev = np.zeros((Hidden_Layer_size, 1))\n",
        "      pointer = 0\n",
        "\n",
        "\n",
        "  inputs = ([char_to_idx[ch] \n",
        "              for ch in data[pointer: pointer + Time_steps]])\n",
        "  targets = ([char_to_idx[ch] \n",
        "              for ch in data[pointer + 1: pointer + Time_steps + 1]])\n",
        "\n",
        "  loss, g_h_prev, g_C_prev = \\\n",
        "      forward_backward(inputs, targets, g_h_prev, g_C_prev)\n",
        "  smooth_loss = smooth_loss * 0.999 + loss * 0.001\n",
        "\n",
        "  # Print every hundred steps\n",
        "  if iteration % 100 == 0:\n",
        "      update_status(inputs, g_h_prev, g_C_prev)\n",
        "\n",
        "  update_paramters()\n",
        "\n",
        "  plot_iter = np.append(plot_iter, [iteration])\n",
        "  plot_loss = np.append(plot_loss, [loss])\n",
        "\n",
        "  pointer += Time_steps\n",
        "  iteration += 1\n",
        "  iter = iter -1"
      ],
      "execution_count": null,
      "outputs": []
    },
    {
      "cell_type": "markdown",
      "metadata": {
        "id": "0tm0jd21tHOK"
      },
      "source": [
        "\n",
        "Quiz Question 7.\n",
        "\n",
        "Run the above code for 50000 iterations making sure that you have 100 hidden layers and time_steps is 40. What is the loss value you're seeing?\n"
      ]
    }
  ]
}