{
  "nbformat": 4,
  "nbformat_minor": 0,
  "metadata": {
    "colab": {
      "name": " Assignment 6A.ipynb",
      "version": "0.3.2",
      "provenance": [],
      "include_colab_link": true
    },
    "kernelspec": {
      "name": "python3",
      "display_name": "Python 3"
    },
    "accelerator": "GPU"
  },
  "cells": [
    {
      "cell_type": "markdown",
      "metadata": {
        "id": "view-in-github",
        "colab_type": "text"
      },
      "source": [
        "<a href=\"https://colab.research.google.com/github/nandwanatarun/EVA-DeepLearning/blob/Session-6/S6B_Assignment.ipynb\" target=\"_parent\"><img src=\"https://colab.research.google.com/assets/colab-badge.svg\" alt=\"Open In Colab\"/></a>"
      ]
    },
    {
      "cell_type": "code",
      "metadata": {
        "id": "KkwXnw9OfHZl",
        "colab_type": "code",
        "colab": {}
      },
      "source": [
        "from keras import backend as K\n",
        "import time\n",
        "import matplotlib.pyplot as plt\n",
        "import numpy as np\n",
        "% matplotlib inline\n",
        "np.random.seed(2017) \n",
        "from keras.models import Sequential\n",
        "from keras.layers.convolutional import Convolution2D, MaxPooling2D\n",
        "from keras.layers import Activation, Flatten, Dense, Dropout\n",
        "from keras.layers.normalization import BatchNormalization\n",
        "from keras.utils import np_utils"
      ],
      "execution_count": 0,
      "outputs": []
    },
    {
      "cell_type": "code",
      "metadata": {
        "id": "NHpnoCHZfO8g",
        "colab_type": "code",
        "colab": {}
      },
      "source": [
        "from keras.datasets import cifar10\n",
        "(train_features, train_labels), (test_features, test_labels) = cifar10.load_data()\n",
        "num_train, img_channels, img_rows, img_cols =  train_features.shape\n",
        "num_test, _, _, _ =  test_features.shape\n",
        "num_classes = len(np.unique(train_labels))"
      ],
      "execution_count": 0,
      "outputs": []
    },
    {
      "cell_type": "code",
      "metadata": {
        "id": "14HyBUXdfS6G",
        "colab_type": "code",
        "colab": {
          "base_uri": "https://localhost:8080/",
          "height": 212
        },
        "outputId": "3859d5d9-771c-4df9-8980-368243b4098b"
      },
      "source": [
        "class_names = ['airplane','automobile','bird','cat','deer',\n",
        "               'dog','frog','horse','ship','truck']\n",
        "fig = plt.figure(figsize=(8,3))\n",
        "for i in range(num_classes):\n",
        "    ax = fig.add_subplot(2, 5, 1 + i, xticks=[], yticks=[])\n",
        "    idx = np.where(train_labels[:]==i)[0]\n",
        "    features_idx = train_features[idx,::]\n",
        "    img_num = np.random.randint(features_idx.shape[0])\n",
        "    im = features_idx[img_num]\n",
        "    ax.set_title(class_names[i])\n",
        "    plt.imshow(im)\n",
        "plt.show()"
      ],
      "execution_count": 39,
      "outputs": [
        {
          "output_type": "display_data",
          "data": {
            "image/png": "iVBORw0KGgoAAAANSUhEUgAAAdAAAADECAYAAAAvbXA5AAAABHNCSVQICAgIfAhkiAAAAAlwSFlz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\nB+Bvgtuq90X4uwDuFsbnu40xC+Br/nkA
